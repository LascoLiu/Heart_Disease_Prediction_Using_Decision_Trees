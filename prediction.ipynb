{
 "cells": [
  {
   "attachments": {},
   "cell_type": "markdown",
   "id": "88ecd969",
   "metadata": {},
   "source": [
    "#### Heart Disease Prediction Using Decision Trees:\n",
    "This task concerns heart disease prediction using data from four databases: Cleveland, Hungary, Switzerland, and Long Beach V. The data was collected from 1988 and contained many attributes such as age, sex, and resting blood pressure."
   ]
  },
  {
   "attachments": {},
   "cell_type": "markdown",
   "id": "118c83a4",
   "metadata": {},
   "source": [
    "* 1.Write a description of the dataset provided, including, for instance, how many features there are, the number of classes, examples per class in training and testing sets, and so on. (2 marks)."
   ]
  },
  {
   "cell_type": "code",
   "execution_count": 14,
   "id": "a23048c5",
   "metadata": {},
   "outputs": [],
   "source": [
    "import pandas as pd\n",
    "import numpy as np\n",
    "import warnings\n",
    "warnings.filterwarnings('ignore') #ignore warnings\n",
    "\n",
    "from sklearn import tree\n",
    "from sklearn.datasets import load_wine\n",
    "from sklearn.model_selection import train_test_split\n",
    "from sklearn.model_selection import GridSearchCV"
   ]
  },
  {
   "cell_type": "code",
   "execution_count": 15,
   "id": "a57e3ffb",
   "metadata": {},
   "outputs": [],
   "source": [
    "from sklearn.model_selection import cross_val_score"
   ]
  },
  {
   "attachments": {},
   "cell_type": "markdown",
   "id": "6b8f69a3",
   "metadata": {},
   "source": [
    "#### look at training data first"
   ]
  },
  {
   "cell_type": "code",
   "execution_count": 16,
   "id": "080e27ad",
   "metadata": {},
   "outputs": [],
   "source": [
    "# input data\n",
    "x_train = pd.read_csv('dataset/x_train.csv')\n",
    "y_train = pd.read_csv('dataset/y_train.csv')\n",
    "x_test = pd.read_csv('dataset/x_test.csv')\n",
    "y_test = pd.read_csv('dataset/y_test.csv')"
   ]
  },
  {
   "cell_type": "code",
   "execution_count": 17,
   "id": "bcd2d0dc",
   "metadata": {
    "scrolled": true
   },
   "outputs": [
    {
     "data": {
      "text/html": [
       "<div>\n",
       "<style scoped>\n",
       "    .dataframe tbody tr th:only-of-type {\n",
       "        vertical-align: middle;\n",
       "    }\n",
       "\n",
       "    .dataframe tbody tr th {\n",
       "        vertical-align: top;\n",
       "    }\n",
       "\n",
       "    .dataframe thead th {\n",
       "        text-align: right;\n",
       "    }\n",
       "</style>\n",
       "<table border=\"1\" class=\"dataframe\">\n",
       "  <thead>\n",
       "    <tr style=\"text-align: right;\">\n",
       "      <th></th>\n",
       "      <th>age</th>\n",
       "      <th>sex</th>\n",
       "      <th>chest</th>\n",
       "      <th>resting_blood_pressure</th>\n",
       "      <th>serum_cholestoral</th>\n",
       "      <th>fasting_blood_sugar</th>\n",
       "      <th>resting_electrocardiographic_results</th>\n",
       "      <th>maximum_heart_rate_achieved</th>\n",
       "      <th>exercise_induced_angina</th>\n",
       "      <th>oldpeak</th>\n",
       "      <th>slope</th>\n",
       "      <th>number_of_major_vessels</th>\n",
       "      <th>thal</th>\n",
       "    </tr>\n",
       "  </thead>\n",
       "  <tbody>\n",
       "    <tr>\n",
       "      <th>0</th>\n",
       "      <td>49.207124</td>\n",
       "      <td>0</td>\n",
       "      <td>4.000000</td>\n",
       "      <td>162.996167</td>\n",
       "      <td>181.108682</td>\n",
       "      <td>0</td>\n",
       "      <td>0</td>\n",
       "      <td>148.227858</td>\n",
       "      <td>1</td>\n",
       "      <td>0.944547</td>\n",
       "      <td>2</td>\n",
       "      <td>0</td>\n",
       "      <td>3</td>\n",
       "    </tr>\n",
       "    <tr>\n",
       "      <th>1</th>\n",
       "      <td>53.628425</td>\n",
       "      <td>1</td>\n",
       "      <td>1.741596</td>\n",
       "      <td>130.233730</td>\n",
       "      <td>276.474630</td>\n",
       "      <td>0</td>\n",
       "      <td>2</td>\n",
       "      <td>152.917139</td>\n",
       "      <td>0</td>\n",
       "      <td>0.119070</td>\n",
       "      <td>2</td>\n",
       "      <td>0</td>\n",
       "      <td>3</td>\n",
       "    </tr>\n",
       "    <tr>\n",
       "      <th>2</th>\n",
       "      <td>49.591426</td>\n",
       "      <td>1</td>\n",
       "      <td>4.000000</td>\n",
       "      <td>146.999012</td>\n",
       "      <td>223.300517</td>\n",
       "      <td>1</td>\n",
       "      <td>2</td>\n",
       "      <td>102.352090</td>\n",
       "      <td>1</td>\n",
       "      <td>1.616747</td>\n",
       "      <td>2</td>\n",
       "      <td>2</td>\n",
       "      <td>7</td>\n",
       "    </tr>\n",
       "    <tr>\n",
       "      <th>3</th>\n",
       "      <td>58.991445</td>\n",
       "      <td>1</td>\n",
       "      <td>4.000000</td>\n",
       "      <td>112.369143</td>\n",
       "      <td>187.245501</td>\n",
       "      <td>0</td>\n",
       "      <td>0</td>\n",
       "      <td>158.164750</td>\n",
       "      <td>1</td>\n",
       "      <td>0.000000</td>\n",
       "      <td>1</td>\n",
       "      <td>1</td>\n",
       "      <td>7</td>\n",
       "    </tr>\n",
       "    <tr>\n",
       "      <th>4</th>\n",
       "      <td>51.053602</td>\n",
       "      <td>1</td>\n",
       "      <td>1.954609</td>\n",
       "      <td>138.032047</td>\n",
       "      <td>238.482868</td>\n",
       "      <td>0</td>\n",
       "      <td>0</td>\n",
       "      <td>172.540828</td>\n",
       "      <td>0</td>\n",
       "      <td>1.150464</td>\n",
       "      <td>1</td>\n",
       "      <td>1</td>\n",
       "      <td>3</td>\n",
       "    </tr>\n",
       "  </tbody>\n",
       "</table>\n",
       "</div>"
      ],
      "text/plain": [
       "         age  sex     chest  resting_blood_pressure  serum_cholestoral  \\\n",
       "0  49.207124    0  4.000000              162.996167         181.108682   \n",
       "1  53.628425    1  1.741596              130.233730         276.474630   \n",
       "2  49.591426    1  4.000000              146.999012         223.300517   \n",
       "3  58.991445    1  4.000000              112.369143         187.245501   \n",
       "4  51.053602    1  1.954609              138.032047         238.482868   \n",
       "\n",
       "   fasting_blood_sugar  resting_electrocardiographic_results  \\\n",
       "0                    0                                     0   \n",
       "1                    0                                     2   \n",
       "2                    1                                     2   \n",
       "3                    0                                     0   \n",
       "4                    0                                     0   \n",
       "\n",
       "   maximum_heart_rate_achieved  exercise_induced_angina   oldpeak  slope  \\\n",
       "0                   148.227858                        1  0.944547      2   \n",
       "1                   152.917139                        0  0.119070      2   \n",
       "2                   102.352090                        1  1.616747      2   \n",
       "3                   158.164750                        1  0.000000      1   \n",
       "4                   172.540828                        0  1.150464      1   \n",
       "\n",
       "   number_of_major_vessels  thal  \n",
       "0                        0     3  \n",
       "1                        0     3  \n",
       "2                        2     7  \n",
       "3                        1     7  \n",
       "4                        1     3  "
      ]
     },
     "execution_count": 17,
     "metadata": {},
     "output_type": "execute_result"
    }
   ],
   "source": [
    "# look at what the data look like\n",
    "x_train.head()"
   ]
  },
  {
   "cell_type": "code",
   "execution_count": 18,
   "id": "02bddb5d",
   "metadata": {
    "scrolled": true
   },
   "outputs": [
    {
     "data": {
      "text/html": [
       "<div>\n",
       "<style scoped>\n",
       "    .dataframe tbody tr th:only-of-type {\n",
       "        vertical-align: middle;\n",
       "    }\n",
       "\n",
       "    .dataframe tbody tr th {\n",
       "        vertical-align: top;\n",
       "    }\n",
       "\n",
       "    .dataframe thead th {\n",
       "        text-align: right;\n",
       "    }\n",
       "</style>\n",
       "<table border=\"1\" class=\"dataframe\">\n",
       "  <thead>\n",
       "    <tr style=\"text-align: right;\">\n",
       "      <th></th>\n",
       "      <th>age</th>\n",
       "      <th>sex</th>\n",
       "      <th>chest</th>\n",
       "      <th>resting_blood_pressure</th>\n",
       "      <th>serum_cholestoral</th>\n",
       "      <th>fasting_blood_sugar</th>\n",
       "      <th>resting_electrocardiographic_results</th>\n",
       "      <th>maximum_heart_rate_achieved</th>\n",
       "      <th>exercise_induced_angina</th>\n",
       "      <th>oldpeak</th>\n",
       "      <th>slope</th>\n",
       "      <th>number_of_major_vessels</th>\n",
       "      <th>thal</th>\n",
       "    </tr>\n",
       "  </thead>\n",
       "  <tbody>\n",
       "    <tr>\n",
       "      <th>count</th>\n",
       "      <td>300000.000000</td>\n",
       "      <td>300000.000000</td>\n",
       "      <td>300000.000000</td>\n",
       "      <td>300000.000000</td>\n",
       "      <td>300000.000000</td>\n",
       "      <td>300000.000000</td>\n",
       "      <td>300000.000000</td>\n",
       "      <td>300000.000000</td>\n",
       "      <td>300000.000000</td>\n",
       "      <td>300000.000000</td>\n",
       "      <td>300000.000000</td>\n",
       "      <td>300000.000000</td>\n",
       "      <td>300000.000000</td>\n",
       "    </tr>\n",
       "    <tr>\n",
       "      <th>mean</th>\n",
       "      <td>54.410310</td>\n",
       "      <td>0.678577</td>\n",
       "      <td>3.169558</td>\n",
       "      <td>131.340200</td>\n",
       "      <td>249.633492</td>\n",
       "      <td>0.150160</td>\n",
       "      <td>1.019740</td>\n",
       "      <td>149.598946</td>\n",
       "      <td>0.333380</td>\n",
       "      <td>1.051586</td>\n",
       "      <td>1.596153</td>\n",
       "      <td>0.682073</td>\n",
       "      <td>4.714183</td>\n",
       "    </tr>\n",
       "    <tr>\n",
       "      <th>std</th>\n",
       "      <td>9.097727</td>\n",
       "      <td>0.467024</td>\n",
       "      <td>0.950532</td>\n",
       "      <td>17.807229</td>\n",
       "      <td>51.790285</td>\n",
       "      <td>0.357229</td>\n",
       "      <td>0.994126</td>\n",
       "      <td>23.090862</td>\n",
       "      <td>0.471422</td>\n",
       "      <td>1.144234</td>\n",
       "      <td>0.629462</td>\n",
       "      <td>0.950810</td>\n",
       "      <td>1.935105</td>\n",
       "    </tr>\n",
       "    <tr>\n",
       "      <th>min</th>\n",
       "      <td>27.174373</td>\n",
       "      <td>0.000000</td>\n",
       "      <td>-0.267614</td>\n",
       "      <td>82.918527</td>\n",
       "      <td>101.119555</td>\n",
       "      <td>0.000000</td>\n",
       "      <td>0.000000</td>\n",
       "      <td>63.166763</td>\n",
       "      <td>0.000000</td>\n",
       "      <td>-0.806788</td>\n",
       "      <td>1.000000</td>\n",
       "      <td>0.000000</td>\n",
       "      <td>3.000000</td>\n",
       "    </tr>\n",
       "    <tr>\n",
       "      <th>25%</th>\n",
       "      <td>48.060686</td>\n",
       "      <td>0.000000</td>\n",
       "      <td>3.000000</td>\n",
       "      <td>119.945843</td>\n",
       "      <td>216.453899</td>\n",
       "      <td>0.000000</td>\n",
       "      <td>0.000000</td>\n",
       "      <td>135.720082</td>\n",
       "      <td>0.000000</td>\n",
       "      <td>0.000000</td>\n",
       "      <td>1.000000</td>\n",
       "      <td>0.000000</td>\n",
       "      <td>3.000000</td>\n",
       "    </tr>\n",
       "    <tr>\n",
       "      <th>50%</th>\n",
       "      <td>55.116959</td>\n",
       "      <td>1.000000</td>\n",
       "      <td>3.000000</td>\n",
       "      <td>129.731240</td>\n",
       "      <td>244.257839</td>\n",
       "      <td>0.000000</td>\n",
       "      <td>2.000000</td>\n",
       "      <td>153.250108</td>\n",
       "      <td>0.000000</td>\n",
       "      <td>0.811204</td>\n",
       "      <td>2.000000</td>\n",
       "      <td>0.000000</td>\n",
       "      <td>3.000000</td>\n",
       "    </tr>\n",
       "    <tr>\n",
       "      <th>75%</th>\n",
       "      <td>60.661279</td>\n",
       "      <td>1.000000</td>\n",
       "      <td>4.000000</td>\n",
       "      <td>139.913376</td>\n",
       "      <td>274.357185</td>\n",
       "      <td>0.000000</td>\n",
       "      <td>2.000000</td>\n",
       "      <td>165.182180</td>\n",
       "      <td>1.000000</td>\n",
       "      <td>1.672860</td>\n",
       "      <td>2.000000</td>\n",
       "      <td>1.000000</td>\n",
       "      <td>7.000000</td>\n",
       "    </tr>\n",
       "    <tr>\n",
       "      <th>max</th>\n",
       "      <td>79.283485</td>\n",
       "      <td>1.000000</td>\n",
       "      <td>4.000000</td>\n",
       "      <td>209.673650</td>\n",
       "      <td>527.755764</td>\n",
       "      <td>1.000000</td>\n",
       "      <td>2.000000</td>\n",
       "      <td>208.735196</td>\n",
       "      <td>1.000000</td>\n",
       "      <td>6.707044</td>\n",
       "      <td>3.000000</td>\n",
       "      <td>3.000000</td>\n",
       "      <td>7.000000</td>\n",
       "    </tr>\n",
       "  </tbody>\n",
       "</table>\n",
       "</div>"
      ],
      "text/plain": [
       "                 age            sex          chest  resting_blood_pressure  \\\n",
       "count  300000.000000  300000.000000  300000.000000           300000.000000   \n",
       "mean       54.410310       0.678577       3.169558              131.340200   \n",
       "std         9.097727       0.467024       0.950532               17.807229   \n",
       "min        27.174373       0.000000      -0.267614               82.918527   \n",
       "25%        48.060686       0.000000       3.000000              119.945843   \n",
       "50%        55.116959       1.000000       3.000000              129.731240   \n",
       "75%        60.661279       1.000000       4.000000              139.913376   \n",
       "max        79.283485       1.000000       4.000000              209.673650   \n",
       "\n",
       "       serum_cholestoral  fasting_blood_sugar  \\\n",
       "count      300000.000000        300000.000000   \n",
       "mean          249.633492             0.150160   \n",
       "std            51.790285             0.357229   \n",
       "min           101.119555             0.000000   \n",
       "25%           216.453899             0.000000   \n",
       "50%           244.257839             0.000000   \n",
       "75%           274.357185             0.000000   \n",
       "max           527.755764             1.000000   \n",
       "\n",
       "       resting_electrocardiographic_results  maximum_heart_rate_achieved  \\\n",
       "count                         300000.000000                300000.000000   \n",
       "mean                               1.019740                   149.598946   \n",
       "std                                0.994126                    23.090862   \n",
       "min                                0.000000                    63.166763   \n",
       "25%                                0.000000                   135.720082   \n",
       "50%                                2.000000                   153.250108   \n",
       "75%                                2.000000                   165.182180   \n",
       "max                                2.000000                   208.735196   \n",
       "\n",
       "       exercise_induced_angina        oldpeak          slope  \\\n",
       "count            300000.000000  300000.000000  300000.000000   \n",
       "mean                  0.333380       1.051586       1.596153   \n",
       "std                   0.471422       1.144234       0.629462   \n",
       "min                   0.000000      -0.806788       1.000000   \n",
       "25%                   0.000000       0.000000       1.000000   \n",
       "50%                   0.000000       0.811204       2.000000   \n",
       "75%                   1.000000       1.672860       2.000000   \n",
       "max                   1.000000       6.707044       3.000000   \n",
       "\n",
       "       number_of_major_vessels           thal  \n",
       "count            300000.000000  300000.000000  \n",
       "mean                  0.682073       4.714183  \n",
       "std                   0.950810       1.935105  \n",
       "min                   0.000000       3.000000  \n",
       "25%                   0.000000       3.000000  \n",
       "50%                   0.000000       3.000000  \n",
       "75%                   1.000000       7.000000  \n",
       "max                   3.000000       7.000000  "
      ]
     },
     "execution_count": 18,
     "metadata": {},
     "output_type": "execute_result"
    }
   ],
   "source": [
    "x_train.describe()"
   ]
  },
  {
   "cell_type": "code",
   "execution_count": 19,
   "id": "1a25c09f",
   "metadata": {},
   "outputs": [],
   "source": [
    "feature_name = x_train.columns.values"
   ]
  },
  {
   "cell_type": "code",
   "execution_count": 20,
   "id": "3b1e1939",
   "metadata": {},
   "outputs": [
    {
     "data": {
      "text/html": [
       "<div>\n",
       "<style scoped>\n",
       "    .dataframe tbody tr th:only-of-type {\n",
       "        vertical-align: middle;\n",
       "    }\n",
       "\n",
       "    .dataframe tbody tr th {\n",
       "        vertical-align: top;\n",
       "    }\n",
       "\n",
       "    .dataframe thead th {\n",
       "        text-align: right;\n",
       "    }\n",
       "</style>\n",
       "<table border=\"1\" class=\"dataframe\">\n",
       "  <thead>\n",
       "    <tr style=\"text-align: right;\">\n",
       "      <th></th>\n",
       "      <th>age</th>\n",
       "      <th>chest</th>\n",
       "      <th>resting_blood_pressure</th>\n",
       "      <th>serum_cholestoral</th>\n",
       "      <th>fasting_blood_sugar</th>\n",
       "      <th>resting_electrocardiographic_results</th>\n",
       "      <th>maximum_heart_rate_achieved</th>\n",
       "      <th>exercise_induced_angina</th>\n",
       "      <th>oldpeak</th>\n",
       "      <th>slope</th>\n",
       "      <th>number_of_major_vessels</th>\n",
       "      <th>thal</th>\n",
       "    </tr>\n",
       "    <tr>\n",
       "      <th>sex</th>\n",
       "      <th></th>\n",
       "      <th></th>\n",
       "      <th></th>\n",
       "      <th></th>\n",
       "      <th></th>\n",
       "      <th></th>\n",
       "      <th></th>\n",
       "      <th></th>\n",
       "      <th></th>\n",
       "      <th></th>\n",
       "      <th></th>\n",
       "      <th></th>\n",
       "    </tr>\n",
       "  </thead>\n",
       "  <tbody>\n",
       "    <tr>\n",
       "      <th>0</th>\n",
       "      <td>96427</td>\n",
       "      <td>96427</td>\n",
       "      <td>96427</td>\n",
       "      <td>96427</td>\n",
       "      <td>96427</td>\n",
       "      <td>96427</td>\n",
       "      <td>96427</td>\n",
       "      <td>96427</td>\n",
       "      <td>96427</td>\n",
       "      <td>96427</td>\n",
       "      <td>96427</td>\n",
       "      <td>96427</td>\n",
       "    </tr>\n",
       "    <tr>\n",
       "      <th>1</th>\n",
       "      <td>203573</td>\n",
       "      <td>203573</td>\n",
       "      <td>203573</td>\n",
       "      <td>203573</td>\n",
       "      <td>203573</td>\n",
       "      <td>203573</td>\n",
       "      <td>203573</td>\n",
       "      <td>203573</td>\n",
       "      <td>203573</td>\n",
       "      <td>203573</td>\n",
       "      <td>203573</td>\n",
       "      <td>203573</td>\n",
       "    </tr>\n",
       "  </tbody>\n",
       "</table>\n",
       "</div>"
      ],
      "text/plain": [
       "        age   chest  resting_blood_pressure  serum_cholestoral  \\\n",
       "sex                                                              \n",
       "0     96427   96427                   96427              96427   \n",
       "1    203573  203573                  203573             203573   \n",
       "\n",
       "     fasting_blood_sugar  resting_electrocardiographic_results  \\\n",
       "sex                                                              \n",
       "0                  96427                                 96427   \n",
       "1                 203573                                203573   \n",
       "\n",
       "     maximum_heart_rate_achieved  exercise_induced_angina  oldpeak   slope  \\\n",
       "sex                                                                          \n",
       "0                          96427                    96427    96427   96427   \n",
       "1                         203573                   203573   203573  203573   \n",
       "\n",
       "     number_of_major_vessels    thal  \n",
       "sex                                   \n",
       "0                      96427   96427  \n",
       "1                     203573  203573  "
      ]
     },
     "execution_count": 20,
     "metadata": {},
     "output_type": "execute_result"
    }
   ],
   "source": [
    "# the proportion between male and female\n",
    "x_train.groupby('sex').count()"
   ]
  },
  {
   "cell_type": "code",
   "execution_count": 21,
   "id": "6fc130c6",
   "metadata": {},
   "outputs": [
    {
     "data": {
      "text/html": [
       "<div>\n",
       "<style scoped>\n",
       "    .dataframe tbody tr th:only-of-type {\n",
       "        vertical-align: middle;\n",
       "    }\n",
       "\n",
       "    .dataframe tbody tr th {\n",
       "        vertical-align: top;\n",
       "    }\n",
       "\n",
       "    .dataframe thead th {\n",
       "        text-align: right;\n",
       "    }\n",
       "</style>\n",
       "<table border=\"1\" class=\"dataframe\">\n",
       "  <thead>\n",
       "    <tr style=\"text-align: right;\">\n",
       "      <th></th>\n",
       "      <th>class</th>\n",
       "    </tr>\n",
       "  </thead>\n",
       "  <tbody>\n",
       "    <tr>\n",
       "      <th>0</th>\n",
       "      <td>1</td>\n",
       "    </tr>\n",
       "    <tr>\n",
       "      <th>1</th>\n",
       "      <td>0</td>\n",
       "    </tr>\n",
       "    <tr>\n",
       "      <th>2</th>\n",
       "      <td>1</td>\n",
       "    </tr>\n",
       "    <tr>\n",
       "      <th>3</th>\n",
       "      <td>1</td>\n",
       "    </tr>\n",
       "    <tr>\n",
       "      <th>4</th>\n",
       "      <td>0</td>\n",
       "    </tr>\n",
       "  </tbody>\n",
       "</table>\n",
       "</div>"
      ],
      "text/plain": [
       "   class\n",
       "0      1\n",
       "1      0\n",
       "2      1\n",
       "3      1\n",
       "4      0"
      ]
     },
     "execution_count": 21,
     "metadata": {},
     "output_type": "execute_result"
    }
   ],
   "source": [
    "y_train.head()\n"
   ]
  },
  {
   "attachments": {},
   "cell_type": "markdown",
   "id": "d8f7e236",
   "metadata": {},
   "source": [
    "* let's see how many feature do we have?\n",
    "* how many data items do we have?"
   ]
  },
  {
   "cell_type": "code",
   "execution_count": 22,
   "id": "2611e228",
   "metadata": {},
   "outputs": [
    {
     "data": {
      "text/plain": [
       "(300000, 13)"
      ]
     },
     "execution_count": 22,
     "metadata": {},
     "output_type": "execute_result"
    }
   ],
   "source": [
    "x_train.shape"
   ]
  },
  {
   "attachments": {},
   "cell_type": "markdown",
   "id": "017a8715",
   "metadata": {},
   "source": [
    "* we can see there are 13 feature\n",
    "* there are 300000 items in the training data."
   ]
  },
  {
   "cell_type": "code",
   "execution_count": 23,
   "id": "ab096fe9",
   "metadata": {},
   "outputs": [
    {
     "data": {
      "text/plain": [
       "(300000, 13)"
      ]
     },
     "execution_count": 23,
     "metadata": {},
     "output_type": "execute_result"
    }
   ],
   "source": [
    "x_test.shape"
   ]
  },
  {
   "attachments": {},
   "cell_type": "markdown",
   "id": "5a845f22",
   "metadata": {},
   "source": [
    "* also, there are 300000 data in the testing data."
   ]
  },
  {
   "attachments": {},
   "cell_type": "markdown",
   "id": "476af30a",
   "metadata": {},
   "source": [
    "* what is the proportion of fale and female"
   ]
  },
  {
   "attachments": {},
   "cell_type": "markdown",
   "id": "92187f25",
   "metadata": {},
   "source": [
    "* look at how many classes in the label?"
   ]
  },
  {
   "cell_type": "code",
   "execution_count": 24,
   "id": "298b132d",
   "metadata": {},
   "outputs": [
    {
     "data": {
      "text/plain": [
       "0    1\n",
       "1    0\n",
       "Name: class, dtype: int64"
      ]
     },
     "execution_count": 24,
     "metadata": {},
     "output_type": "execute_result"
    }
   ],
   "source": [
    "classes = y_train['class'].drop_duplicates()\n",
    "classes "
   ]
  },
  {
   "cell_type": "code",
   "execution_count": 25,
   "id": "7da54c1c",
   "metadata": {},
   "outputs": [
    {
     "data": {
      "text/plain": [
       "class\n",
       "0    166859\n",
       "1    133141\n",
       "dtype: int64"
      ]
     },
     "execution_count": 25,
     "metadata": {},
     "output_type": "execute_result"
    }
   ],
   "source": [
    "y_train.value_counts('class')"
   ]
  },
  {
   "attachments": {},
   "cell_type": "markdown",
   "id": "12837448",
   "metadata": {},
   "source": [
    "at label, we can see only divide two classes"
   ]
  },
  {
   "attachments": {},
   "cell_type": "markdown",
   "id": "8d33b0ce",
   "metadata": {},
   "source": [
    "from here, we know people whose sex=1 is double of sex=0  \n",
    "I know people sex=1 are more likely to get this disease"
   ]
  },
  {
   "attachments": {},
   "cell_type": "markdown",
   "id": "f8a4f98b",
   "metadata": {},
   "source": [
    "------\n"
   ]
  },
  {
   "attachments": {},
   "cell_type": "markdown",
   "id": "1bd75a97",
   "metadata": {},
   "source": [
    "* 2. Build a decision tree using part of the provided dataset for training and then evaluate your decision tree \n",
    "* using part of the provided dataset to measure the decision tree accuracy. Your answer to this item should \n",
    "* contain a description of steps you followed to propose your decision tree model, including how to import data, \n",
    "* how to train a decision tree, the parameter settings of the algorithm, and so on. Consider using the Python \n",
    "* library scikit-learn (https://scikit-learn.org/). \n"
   ]
  },
  {
   "cell_type": "code",
   "execution_count": 26,
   "id": "f48f5ea8",
   "metadata": {},
   "outputs": [
    {
     "data": {
      "text/plain": [
       "0.8415633333333333"
      ]
     },
     "execution_count": 26,
     "metadata": {},
     "output_type": "execute_result"
    }
   ],
   "source": [
    "# instance a tree, \n",
    "# random_state:setting random mode parameter, make sure the same result at every single time \n",
    "clf = tree.DecisionTreeClassifier(criterion=\"gini\"\n",
    "                                  ,random_state=30\n",
    "                                  ,max_depth = 3                            \n",
    "                                 )\n",
    "#training data\n",
    "clf = clf.fit(x_train,y_train)\n",
    "#return the score of accuracy\n",
    "score = clf.score(x_test,y_test)\n",
    "score"
   ]
  },
  {
   "cell_type": "code",
   "execution_count": 28,
   "id": "afe81bed",
   "metadata": {},
   "outputs": [
    {
     "data": {
      "text/plain": [
       "0.8396733333333334"
      ]
     },
     "execution_count": 28,
     "metadata": {},
     "output_type": "execute_result"
    }
   ],
   "source": [
    "# How well does the tree fit the training set?\n",
    "score_train = clf.score(x_train,y_train)\n",
    "score_train"
   ]
  },
  {
   "cell_type": "code",
   "execution_count": 29,
   "id": "c4a88166",
   "metadata": {
    "scrolled": true
   },
   "outputs": [
    {
     "data": {
      "text/plain": [
       "[('age', 0.0),\n",
       " ('sex', 0.0),\n",
       " ('chest', 0.2831851744927505),\n",
       " ('resting_blood_pressure', 0.0),\n",
       " ('serum_cholestoral', 0.0),\n",
       " ('fasting_blood_sugar', 0.0),\n",
       " ('resting_electrocardiographic_results', 0.0),\n",
       " ('maximum_heart_rate_achieved', 0.0),\n",
       " ('exercise_induced_angina', 0.0),\n",
       " ('oldpeak', 0.0),\n",
       " ('slope', 0.0),\n",
       " ('number_of_major_vessels', 0.2003999868777692),\n",
       " ('thal', 0.5164148386294803)]"
      ]
     },
     "execution_count": 29,
     "metadata": {},
     "output_type": "execute_result"
    }
   ],
   "source": [
    "[*zip(feature_name,clf.feature_importances_)] #the importance of every feature "
   ]
  },
  {
   "attachments": {},
   "cell_type": "markdown",
   "id": "5b89a87e",
   "metadata": {},
   "source": [
    "* 3.Evaluate the decision tree of the previous item, in terms of i) \n",
    "* its prediction accuracy; ii) how dependent it is on parameter setting \n",
    "* (e.g., maximum number of leaf nodes); iii) any other relevant \n",
    "* characteristics. (6 marks)."
   ]
  },
  {
   "cell_type": "code",
   "execution_count": 30,
   "id": "5e26794e",
   "metadata": {},
   "outputs": [
    {
     "data": {
      "image/svg+xml": [
       "<?xml version=\"1.0\" encoding=\"UTF-8\" standalone=\"no\"?>\n",
       "<!DOCTYPE svg PUBLIC \"-//W3C//DTD SVG 1.1//EN\"\n",
       " \"http://www.w3.org/Graphics/SVG/1.1/DTD/svg11.dtd\">\n",
       "<!-- Generated by graphviz version 2.50.0 (0)\n",
       " -->\n",
       "<!-- Title: Tree Pages: 1 -->\n",
       "<svg width=\"1310pt\" height=\"433pt\"\n",
       " viewBox=\"0.00 0.00 1310.00 433.00\" xmlns=\"http://www.w3.org/2000/svg\" xmlns:xlink=\"http://www.w3.org/1999/xlink\">\n",
       "<g id=\"graph0\" class=\"graph\" transform=\"scale(1 1) rotate(0) translate(4 429)\">\n",
       "<title>Tree</title>\n",
       "<polygon fill=\"white\" stroke=\"transparent\" points=\"-4,4 -4,-429 1306,-429 1306,4 -4,4\"/>\n",
       "<!-- 0 -->\n",
       "<g id=\"node1\" class=\"node\">\n",
       "<title>0</title>\n",
       "<path fill=\"#fae6d7\" stroke=\"black\" d=\"M718.5,-425C718.5,-425 572.5,-425 572.5,-425 566.5,-425 560.5,-419 560.5,-413 560.5,-413 560.5,-354 560.5,-354 560.5,-348 566.5,-342 572.5,-342 572.5,-342 718.5,-342 718.5,-342 724.5,-342 730.5,-348 730.5,-354 730.5,-354 730.5,-413 730.5,-413 730.5,-419 724.5,-425 718.5,-425\"/>\n",
       "<text text-anchor=\"middle\" x=\"645.5\" y=\"-409.8\" font-family=\"Helvetica,sans-Serif\" font-size=\"14.00\">thal &lt;= 4.5</text>\n",
       "<text text-anchor=\"middle\" x=\"645.5\" y=\"-394.8\" font-family=\"Helvetica,sans-Serif\" font-size=\"14.00\">gini = 0.494</text>\n",
       "<text text-anchor=\"middle\" x=\"645.5\" y=\"-379.8\" font-family=\"Helvetica,sans-Serif\" font-size=\"14.00\">samples = 300000</text>\n",
       "<text text-anchor=\"middle\" x=\"645.5\" y=\"-364.8\" font-family=\"Helvetica,sans-Serif\" font-size=\"14.00\">value = [166859, 133141]</text>\n",
       "<text text-anchor=\"middle\" x=\"645.5\" y=\"-349.8\" font-family=\"Helvetica,sans-Serif\" font-size=\"14.00\">class = &#160;</text>\n",
       "</g>\n",
       "<!-- 1 -->\n",
       "<g id=\"node2\" class=\"node\">\n",
       "<title>1</title>\n",
       "<path fill=\"#eca470\" stroke=\"black\" d=\"M596.5,-306C596.5,-306 458.5,-306 458.5,-306 452.5,-306 446.5,-300 446.5,-294 446.5,-294 446.5,-235 446.5,-235 446.5,-229 452.5,-223 458.5,-223 458.5,-223 596.5,-223 596.5,-223 602.5,-223 608.5,-229 608.5,-235 608.5,-235 608.5,-294 608.5,-294 608.5,-300 602.5,-306 596.5,-306\"/>\n",
       "<text text-anchor=\"middle\" x=\"527.5\" y=\"-290.8\" font-family=\"Helvetica,sans-Serif\" font-size=\"14.00\">chest &lt;= 3.423</text>\n",
       "<text text-anchor=\"middle\" x=\"527.5\" y=\"-275.8\" font-family=\"Helvetica,sans-Serif\" font-size=\"14.00\">gini = 0.341</text>\n",
       "<text text-anchor=\"middle\" x=\"527.5\" y=\"-260.8\" font-family=\"Helvetica,sans-Serif\" font-size=\"14.00\">samples = 167094</text>\n",
       "<text text-anchor=\"middle\" x=\"527.5\" y=\"-245.8\" font-family=\"Helvetica,sans-Serif\" font-size=\"14.00\">value = [130640, 36454]</text>\n",
       "<text text-anchor=\"middle\" x=\"527.5\" y=\"-230.8\" font-family=\"Helvetica,sans-Serif\" font-size=\"14.00\">class = &#160;</text>\n",
       "</g>\n",
       "<!-- 0&#45;&gt;1 -->\n",
       "<g id=\"edge1\" class=\"edge\">\n",
       "<title>0&#45;&gt;1</title>\n",
       "<path fill=\"none\" stroke=\"black\" d=\"M604.56,-341.91C595.22,-332.65 585.22,-322.73 575.62,-313.21\"/>\n",
       "<polygon fill=\"black\" stroke=\"black\" points=\"577.93,-310.58 568.37,-306.02 573,-315.55 577.93,-310.58\"/>\n",
       "<text text-anchor=\"middle\" x=\"568.47\" y=\"-327.32\" font-family=\"Helvetica,sans-Serif\" font-size=\"14.00\">True</text>\n",
       "</g>\n",
       "<!-- 8 -->\n",
       "<g id=\"node9\" class=\"node\">\n",
       "<title>8</title>\n",
       "<path fill=\"#83c2ef\" stroke=\"black\" d=\"M840,-306C840,-306 709,-306 709,-306 703,-306 697,-300 697,-294 697,-294 697,-235 697,-235 697,-229 703,-223 709,-223 709,-223 840,-223 840,-223 846,-223 852,-229 852,-235 852,-235 852,-294 852,-294 852,-300 846,-306 840,-306\"/>\n",
       "<text text-anchor=\"middle\" x=\"774.5\" y=\"-290.8\" font-family=\"Helvetica,sans-Serif\" font-size=\"14.00\">chest &lt;= 3.889</text>\n",
       "<text text-anchor=\"middle\" x=\"774.5\" y=\"-275.8\" font-family=\"Helvetica,sans-Serif\" font-size=\"14.00\">gini = 0.397</text>\n",
       "<text text-anchor=\"middle\" x=\"774.5\" y=\"-260.8\" font-family=\"Helvetica,sans-Serif\" font-size=\"14.00\">samples = 132906</text>\n",
       "<text text-anchor=\"middle\" x=\"774.5\" y=\"-245.8\" font-family=\"Helvetica,sans-Serif\" font-size=\"14.00\">value = [36219, 96687]</text>\n",
       "<text text-anchor=\"middle\" x=\"774.5\" y=\"-230.8\" font-family=\"Helvetica,sans-Serif\" font-size=\"14.00\">class = &#160;</text>\n",
       "</g>\n",
       "<!-- 0&#45;&gt;8 -->\n",
       "<g id=\"edge8\" class=\"edge\">\n",
       "<title>0&#45;&gt;8</title>\n",
       "<path fill=\"none\" stroke=\"black\" d=\"M690.26,-341.91C700.56,-332.56 711.61,-322.54 722.21,-312.93\"/>\n",
       "<polygon fill=\"black\" stroke=\"black\" points=\"724.77,-315.33 729.82,-306.02 720.06,-310.15 724.77,-315.33\"/>\n",
       "<text text-anchor=\"middle\" x=\"728.61\" y=\"-327.29\" font-family=\"Helvetica,sans-Serif\" font-size=\"14.00\">False</text>\n",
       "</g>\n",
       "<!-- 2 -->\n",
       "<g id=\"node3\" class=\"node\">\n",
       "<title>2</title>\n",
       "<path fill=\"#e78d4b\" stroke=\"black\" d=\"M336,-187C336,-187 141,-187 141,-187 135,-187 129,-181 129,-175 129,-175 129,-116 129,-116 129,-110 135,-104 141,-104 141,-104 336,-104 336,-104 342,-104 348,-110 348,-116 348,-116 348,-175 348,-175 348,-181 342,-187 336,-187\"/>\n",
       "<text text-anchor=\"middle\" x=\"238.5\" y=\"-171.8\" font-family=\"Helvetica,sans-Serif\" font-size=\"14.00\">number_of_major_vessels &lt;= 0.5</text>\n",
       "<text text-anchor=\"middle\" x=\"238.5\" y=\"-156.8\" font-family=\"Helvetica,sans-Serif\" font-size=\"14.00\">gini = 0.156</text>\n",
       "<text text-anchor=\"middle\" x=\"238.5\" y=\"-141.8\" font-family=\"Helvetica,sans-Serif\" font-size=\"14.00\">samples = 106444</text>\n",
       "<text text-anchor=\"middle\" x=\"238.5\" y=\"-126.8\" font-family=\"Helvetica,sans-Serif\" font-size=\"14.00\">value = [97354, 9090]</text>\n",
       "<text text-anchor=\"middle\" x=\"238.5\" y=\"-111.8\" font-family=\"Helvetica,sans-Serif\" font-size=\"14.00\">class = &#160;</text>\n",
       "</g>\n",
       "<!-- 1&#45;&gt;2 -->\n",
       "<g id=\"edge2\" class=\"edge\">\n",
       "<title>1&#45;&gt;2</title>\n",
       "<path fill=\"none\" stroke=\"black\" d=\"M446.23,-230.6C415.84,-218.29 380.8,-204.11 348.26,-190.94\"/>\n",
       "<polygon fill=\"black\" stroke=\"black\" points=\"349.29,-187.58 338.7,-187.07 346.66,-194.06 349.29,-187.58\"/>\n",
       "</g>\n",
       "<!-- 5 -->\n",
       "<g id=\"node6\" class=\"node\">\n",
       "<title>5</title>\n",
       "<path fill=\"#fae9dc\" stroke=\"black\" d=\"M625,-187C625,-187 430,-187 430,-187 424,-187 418,-181 418,-175 418,-175 418,-116 418,-116 418,-110 424,-104 430,-104 430,-104 625,-104 625,-104 631,-104 637,-110 637,-116 637,-116 637,-175 637,-175 637,-181 631,-187 625,-187\"/>\n",
       "<text text-anchor=\"middle\" x=\"527.5\" y=\"-171.8\" font-family=\"Helvetica,sans-Serif\" font-size=\"14.00\">number_of_major_vessels &lt;= 0.5</text>\n",
       "<text text-anchor=\"middle\" x=\"527.5\" y=\"-156.8\" font-family=\"Helvetica,sans-Serif\" font-size=\"14.00\">gini = 0.495</text>\n",
       "<text text-anchor=\"middle\" x=\"527.5\" y=\"-141.8\" font-family=\"Helvetica,sans-Serif\" font-size=\"14.00\">samples = 60650</text>\n",
       "<text text-anchor=\"middle\" x=\"527.5\" y=\"-126.8\" font-family=\"Helvetica,sans-Serif\" font-size=\"14.00\">value = [33286, 27364]</text>\n",
       "<text text-anchor=\"middle\" x=\"527.5\" y=\"-111.8\" font-family=\"Helvetica,sans-Serif\" font-size=\"14.00\">class = &#160;</text>\n",
       "</g>\n",
       "<!-- 1&#45;&gt;5 -->\n",
       "<g id=\"edge5\" class=\"edge\">\n",
       "<title>1&#45;&gt;5</title>\n",
       "<path fill=\"none\" stroke=\"black\" d=\"M527.5,-222.91C527.5,-214.65 527.5,-205.86 527.5,-197.3\"/>\n",
       "<polygon fill=\"black\" stroke=\"black\" points=\"531,-197.02 527.5,-187.02 524,-197.02 531,-197.02\"/>\n",
       "</g>\n",
       "<!-- 3 -->\n",
       "<g id=\"node4\" class=\"node\">\n",
       "<title>3</title>\n",
       "<path fill=\"#e68641\" stroke=\"black\" d=\"M135,-68C135,-68 12,-68 12,-68 6,-68 0,-62 0,-56 0,-56 0,-12 0,-12 0,-6 6,0 12,0 12,0 135,0 135,0 141,0 147,-6 147,-12 147,-12 147,-56 147,-56 147,-62 141,-68 135,-68\"/>\n",
       "<text text-anchor=\"middle\" x=\"73.5\" y=\"-52.8\" font-family=\"Helvetica,sans-Serif\" font-size=\"14.00\">gini = 0.073</text>\n",
       "<text text-anchor=\"middle\" x=\"73.5\" y=\"-37.8\" font-family=\"Helvetica,sans-Serif\" font-size=\"14.00\">samples = 80290</text>\n",
       "<text text-anchor=\"middle\" x=\"73.5\" y=\"-22.8\" font-family=\"Helvetica,sans-Serif\" font-size=\"14.00\">value = [77223, 3067]</text>\n",
       "<text text-anchor=\"middle\" x=\"73.5\" y=\"-7.8\" font-family=\"Helvetica,sans-Serif\" font-size=\"14.00\">class = &#160;</text>\n",
       "</g>\n",
       "<!-- 2&#45;&gt;3 -->\n",
       "<g id=\"edge3\" class=\"edge\">\n",
       "<title>2&#45;&gt;3</title>\n",
       "<path fill=\"none\" stroke=\"black\" d=\"M177.06,-103.73C162.28,-93.92 146.53,-83.46 131.89,-73.75\"/>\n",
       "<polygon fill=\"black\" stroke=\"black\" points=\"133.68,-70.74 123.41,-68.13 129.81,-76.57 133.68,-70.74\"/>\n",
       "</g>\n",
       "<!-- 4 -->\n",
       "<g id=\"node5\" class=\"node\">\n",
       "<title>4</title>\n",
       "<path fill=\"#eda774\" stroke=\"black\" d=\"M300,-68C300,-68 177,-68 177,-68 171,-68 165,-62 165,-56 165,-56 165,-12 165,-12 165,-6 171,0 177,0 177,0 300,0 300,0 306,0 312,-6 312,-12 312,-12 312,-56 312,-56 312,-62 306,-68 300,-68\"/>\n",
       "<text text-anchor=\"middle\" x=\"238.5\" y=\"-52.8\" font-family=\"Helvetica,sans-Serif\" font-size=\"14.00\">gini = 0.355</text>\n",
       "<text text-anchor=\"middle\" x=\"238.5\" y=\"-37.8\" font-family=\"Helvetica,sans-Serif\" font-size=\"14.00\">samples = 26154</text>\n",
       "<text text-anchor=\"middle\" x=\"238.5\" y=\"-22.8\" font-family=\"Helvetica,sans-Serif\" font-size=\"14.00\">value = [20131, 6023]</text>\n",
       "<text text-anchor=\"middle\" x=\"238.5\" y=\"-7.8\" font-family=\"Helvetica,sans-Serif\" font-size=\"14.00\">class = &#160;</text>\n",
       "</g>\n",
       "<!-- 2&#45;&gt;4 -->\n",
       "<g id=\"edge4\" class=\"edge\">\n",
       "<title>2&#45;&gt;4</title>\n",
       "<path fill=\"none\" stroke=\"black\" d=\"M238.5,-103.73C238.5,-95.52 238.5,-86.86 238.5,-78.56\"/>\n",
       "<polygon fill=\"black\" stroke=\"black\" points=\"242,-78.3 238.5,-68.3 235,-78.3 242,-78.3\"/>\n",
       "</g>\n",
       "<!-- 6 -->\n",
       "<g id=\"node7\" class=\"node\">\n",
       "<title>6</title>\n",
       "<path fill=\"#eead7e\" stroke=\"black\" d=\"M465,-68C465,-68 342,-68 342,-68 336,-68 330,-62 330,-56 330,-56 330,-12 330,-12 330,-6 336,0 342,0 342,0 465,0 465,0 471,0 477,-6 477,-12 477,-12 477,-56 477,-56 477,-62 471,-68 465,-68\"/>\n",
       "<text text-anchor=\"middle\" x=\"403.5\" y=\"-52.8\" font-family=\"Helvetica,sans-Serif\" font-size=\"14.00\">gini = 0.384</text>\n",
       "<text text-anchor=\"middle\" x=\"403.5\" y=\"-37.8\" font-family=\"Helvetica,sans-Serif\" font-size=\"14.00\">samples = 35491</text>\n",
       "<text text-anchor=\"middle\" x=\"403.5\" y=\"-22.8\" font-family=\"Helvetica,sans-Serif\" font-size=\"14.00\">value = [26295, 9196]</text>\n",
       "<text text-anchor=\"middle\" x=\"403.5\" y=\"-7.8\" font-family=\"Helvetica,sans-Serif\" font-size=\"14.00\">class = &#160;</text>\n",
       "</g>\n",
       "<!-- 5&#45;&gt;6 -->\n",
       "<g id=\"edge6\" class=\"edge\">\n",
       "<title>5&#45;&gt;6</title>\n",
       "<path fill=\"none\" stroke=\"black\" d=\"M481.33,-103.73C470.69,-94.33 459.38,-84.35 448.78,-74.99\"/>\n",
       "<polygon fill=\"black\" stroke=\"black\" points=\"451.02,-72.3 441.21,-68.3 446.39,-77.54 451.02,-72.3\"/>\n",
       "</g>\n",
       "<!-- 7 -->\n",
       "<g id=\"node8\" class=\"node\">\n",
       "<title>7</title>\n",
       "<path fill=\"#85c3ef\" stroke=\"black\" d=\"M630,-68C630,-68 507,-68 507,-68 501,-68 495,-62 495,-56 495,-56 495,-12 495,-12 495,-6 501,0 507,0 507,0 630,0 630,0 636,0 642,-6 642,-12 642,-12 642,-56 642,-56 642,-62 636,-68 630,-68\"/>\n",
       "<text text-anchor=\"middle\" x=\"568.5\" y=\"-52.8\" font-family=\"Helvetica,sans-Serif\" font-size=\"14.00\">gini = 0.401</text>\n",
       "<text text-anchor=\"middle\" x=\"568.5\" y=\"-37.8\" font-family=\"Helvetica,sans-Serif\" font-size=\"14.00\">samples = 25159</text>\n",
       "<text text-anchor=\"middle\" x=\"568.5\" y=\"-22.8\" font-family=\"Helvetica,sans-Serif\" font-size=\"14.00\">value = [6991, 18168]</text>\n",
       "<text text-anchor=\"middle\" x=\"568.5\" y=\"-7.8\" font-family=\"Helvetica,sans-Serif\" font-size=\"14.00\">class = &#160;</text>\n",
       "</g>\n",
       "<!-- 5&#45;&gt;7 -->\n",
       "<g id=\"edge7\" class=\"edge\">\n",
       "<title>5&#45;&gt;7</title>\n",
       "<path fill=\"none\" stroke=\"black\" d=\"M542.77,-103.73C545.94,-95.24 549.3,-86.28 552.5,-77.73\"/>\n",
       "<polygon fill=\"black\" stroke=\"black\" points=\"555.8,-78.89 556.03,-68.3 549.25,-76.44 555.8,-78.89\"/>\n",
       "</g>\n",
       "<!-- 9 -->\n",
       "<g id=\"node10\" class=\"node\">\n",
       "<title>9</title>\n",
       "<path fill=\"#fcf2ea\" stroke=\"black\" d=\"M872,-187C872,-187 677,-187 677,-187 671,-187 665,-181 665,-175 665,-175 665,-116 665,-116 665,-110 671,-104 677,-104 677,-104 872,-104 872,-104 878,-104 884,-110 884,-116 884,-116 884,-175 884,-175 884,-181 878,-187 872,-187\"/>\n",
       "<text text-anchor=\"middle\" x=\"774.5\" y=\"-171.8\" font-family=\"Helvetica,sans-Serif\" font-size=\"14.00\">number_of_major_vessels &lt;= 0.5</text>\n",
       "<text text-anchor=\"middle\" x=\"774.5\" y=\"-156.8\" font-family=\"Helvetica,sans-Serif\" font-size=\"14.00\">gini = 0.498</text>\n",
       "<text text-anchor=\"middle\" x=\"774.5\" y=\"-141.8\" font-family=\"Helvetica,sans-Serif\" font-size=\"14.00\">samples = 50870</text>\n",
       "<text text-anchor=\"middle\" x=\"774.5\" y=\"-126.8\" font-family=\"Helvetica,sans-Serif\" font-size=\"14.00\">value = [26837, 24033]</text>\n",
       "<text text-anchor=\"middle\" x=\"774.5\" y=\"-111.8\" font-family=\"Helvetica,sans-Serif\" font-size=\"14.00\">class = &#160;</text>\n",
       "</g>\n",
       "<!-- 8&#45;&gt;9 -->\n",
       "<g id=\"edge9\" class=\"edge\">\n",
       "<title>8&#45;&gt;9</title>\n",
       "<path fill=\"none\" stroke=\"black\" d=\"M774.5,-222.91C774.5,-214.65 774.5,-205.86 774.5,-197.3\"/>\n",
       "<polygon fill=\"black\" stroke=\"black\" points=\"778,-197.02 774.5,-187.02 771,-197.02 778,-197.02\"/>\n",
       "</g>\n",
       "<!-- 12 -->\n",
       "<g id=\"node13\" class=\"node\">\n",
       "<title>12</title>\n",
       "<path fill=\"#53aae8\" stroke=\"black\" d=\"M1161,-187C1161,-187 966,-187 966,-187 960,-187 954,-181 954,-175 954,-175 954,-116 954,-116 954,-110 960,-104 966,-104 966,-104 1161,-104 1161,-104 1167,-104 1173,-110 1173,-116 1173,-116 1173,-175 1173,-175 1173,-181 1167,-187 1161,-187\"/>\n",
       "<text text-anchor=\"middle\" x=\"1063.5\" y=\"-171.8\" font-family=\"Helvetica,sans-Serif\" font-size=\"14.00\">number_of_major_vessels &lt;= 0.5</text>\n",
       "<text text-anchor=\"middle\" x=\"1063.5\" y=\"-156.8\" font-family=\"Helvetica,sans-Serif\" font-size=\"14.00\">gini = 0.203</text>\n",
       "<text text-anchor=\"middle\" x=\"1063.5\" y=\"-141.8\" font-family=\"Helvetica,sans-Serif\" font-size=\"14.00\">samples = 82036</text>\n",
       "<text text-anchor=\"middle\" x=\"1063.5\" y=\"-126.8\" font-family=\"Helvetica,sans-Serif\" font-size=\"14.00\">value = [9382, 72654]</text>\n",
       "<text text-anchor=\"middle\" x=\"1063.5\" y=\"-111.8\" font-family=\"Helvetica,sans-Serif\" font-size=\"14.00\">class = &#160;</text>\n",
       "</g>\n",
       "<!-- 8&#45;&gt;12 -->\n",
       "<g id=\"edge12\" class=\"edge\">\n",
       "<title>8&#45;&gt;12</title>\n",
       "<path fill=\"none\" stroke=\"black\" d=\"M852.33,-231.99C883.5,-219.37 919.98,-204.6 953.76,-190.93\"/>\n",
       "<polygon fill=\"black\" stroke=\"black\" points=\"955.25,-194.1 963.21,-187.1 952.63,-187.61 955.25,-194.1\"/>\n",
       "</g>\n",
       "<!-- 10 -->\n",
       "<g id=\"node11\" class=\"node\">\n",
       "<title>10</title>\n",
       "<path fill=\"#efb082\" stroke=\"black\" d=\"M795,-68C795,-68 672,-68 672,-68 666,-68 660,-62 660,-56 660,-56 660,-12 660,-12 660,-6 666,0 672,0 672,0 795,0 795,0 801,0 807,-6 807,-12 807,-12 807,-56 807,-56 807,-62 801,-68 795,-68\"/>\n",
       "<text text-anchor=\"middle\" x=\"733.5\" y=\"-52.8\" font-family=\"Helvetica,sans-Serif\" font-size=\"14.00\">gini = 0.395</text>\n",
       "<text text-anchor=\"middle\" x=\"733.5\" y=\"-37.8\" font-family=\"Helvetica,sans-Serif\" font-size=\"14.00\">samples = 29210</text>\n",
       "<text text-anchor=\"middle\" x=\"733.5\" y=\"-22.8\" font-family=\"Helvetica,sans-Serif\" font-size=\"14.00\">value = [21304, 7906]</text>\n",
       "<text text-anchor=\"middle\" x=\"733.5\" y=\"-7.8\" font-family=\"Helvetica,sans-Serif\" font-size=\"14.00\">class = &#160;</text>\n",
       "</g>\n",
       "<!-- 9&#45;&gt;10 -->\n",
       "<g id=\"edge10\" class=\"edge\">\n",
       "<title>9&#45;&gt;10</title>\n",
       "<path fill=\"none\" stroke=\"black\" d=\"M759.23,-103.73C756.06,-95.24 752.7,-86.28 749.5,-77.73\"/>\n",
       "<polygon fill=\"black\" stroke=\"black\" points=\"752.75,-76.44 745.97,-68.3 746.2,-78.89 752.75,-76.44\"/>\n",
       "</g>\n",
       "<!-- 11 -->\n",
       "<g id=\"node12\" class=\"node\">\n",
       "<title>11</title>\n",
       "<path fill=\"#7dbfee\" stroke=\"black\" d=\"M960,-68C960,-68 837,-68 837,-68 831,-68 825,-62 825,-56 825,-56 825,-12 825,-12 825,-6 831,0 837,0 837,0 960,0 960,0 966,0 972,-6 972,-12 972,-12 972,-56 972,-56 972,-62 966,-68 960,-68\"/>\n",
       "<text text-anchor=\"middle\" x=\"898.5\" y=\"-52.8\" font-family=\"Helvetica,sans-Serif\" font-size=\"14.00\">gini = 0.38</text>\n",
       "<text text-anchor=\"middle\" x=\"898.5\" y=\"-37.8\" font-family=\"Helvetica,sans-Serif\" font-size=\"14.00\">samples = 21660</text>\n",
       "<text text-anchor=\"middle\" x=\"898.5\" y=\"-22.8\" font-family=\"Helvetica,sans-Serif\" font-size=\"14.00\">value = [5533, 16127]</text>\n",
       "<text text-anchor=\"middle\" x=\"898.5\" y=\"-7.8\" font-family=\"Helvetica,sans-Serif\" font-size=\"14.00\">class = &#160;</text>\n",
       "</g>\n",
       "<!-- 9&#45;&gt;11 -->\n",
       "<g id=\"edge11\" class=\"edge\">\n",
       "<title>9&#45;&gt;11</title>\n",
       "<path fill=\"none\" stroke=\"black\" d=\"M820.67,-103.73C831.31,-94.33 842.62,-84.35 853.22,-74.99\"/>\n",
       "<polygon fill=\"black\" stroke=\"black\" points=\"855.61,-77.54 860.79,-68.3 850.98,-72.3 855.61,-77.54\"/>\n",
       "</g>\n",
       "<!-- 13 -->\n",
       "<g id=\"node14\" class=\"node\">\n",
       "<title>13</title>\n",
       "<path fill=\"#77bced\" stroke=\"black\" d=\"M1125,-68C1125,-68 1002,-68 1002,-68 996,-68 990,-62 990,-56 990,-56 990,-12 990,-12 990,-6 996,0 1002,0 1002,0 1125,0 1125,0 1131,0 1137,-6 1137,-12 1137,-12 1137,-56 1137,-56 1137,-62 1131,-68 1125,-68\"/>\n",
       "<text text-anchor=\"middle\" x=\"1063.5\" y=\"-52.8\" font-family=\"Helvetica,sans-Serif\" font-size=\"14.00\">gini = 0.362</text>\n",
       "<text text-anchor=\"middle\" x=\"1063.5\" y=\"-37.8\" font-family=\"Helvetica,sans-Serif\" font-size=\"14.00\">samples = 31404</text>\n",
       "<text text-anchor=\"middle\" x=\"1063.5\" y=\"-22.8\" font-family=\"Helvetica,sans-Serif\" font-size=\"14.00\">value = [7466, 23938]</text>\n",
       "<text text-anchor=\"middle\" x=\"1063.5\" y=\"-7.8\" font-family=\"Helvetica,sans-Serif\" font-size=\"14.00\">class = &#160;</text>\n",
       "</g>\n",
       "<!-- 12&#45;&gt;13 -->\n",
       "<g id=\"edge13\" class=\"edge\">\n",
       "<title>12&#45;&gt;13</title>\n",
       "<path fill=\"none\" stroke=\"black\" d=\"M1063.5,-103.73C1063.5,-95.52 1063.5,-86.86 1063.5,-78.56\"/>\n",
       "<polygon fill=\"black\" stroke=\"black\" points=\"1067,-78.3 1063.5,-68.3 1060,-78.3 1067,-78.3\"/>\n",
       "</g>\n",
       "<!-- 14 -->\n",
       "<g id=\"node15\" class=\"node\">\n",
       "<title>14</title>\n",
       "<path fill=\"#41a1e6\" stroke=\"black\" d=\"M1290,-68C1290,-68 1167,-68 1167,-68 1161,-68 1155,-62 1155,-56 1155,-56 1155,-12 1155,-12 1155,-6 1161,0 1167,0 1167,0 1290,0 1290,0 1296,0 1302,-6 1302,-12 1302,-12 1302,-56 1302,-56 1302,-62 1296,-68 1290,-68\"/>\n",
       "<text text-anchor=\"middle\" x=\"1228.5\" y=\"-52.8\" font-family=\"Helvetica,sans-Serif\" font-size=\"14.00\">gini = 0.073</text>\n",
       "<text text-anchor=\"middle\" x=\"1228.5\" y=\"-37.8\" font-family=\"Helvetica,sans-Serif\" font-size=\"14.00\">samples = 50632</text>\n",
       "<text text-anchor=\"middle\" x=\"1228.5\" y=\"-22.8\" font-family=\"Helvetica,sans-Serif\" font-size=\"14.00\">value = [1916, 48716]</text>\n",
       "<text text-anchor=\"middle\" x=\"1228.5\" y=\"-7.8\" font-family=\"Helvetica,sans-Serif\" font-size=\"14.00\">class = &#160;</text>\n",
       "</g>\n",
       "<!-- 12&#45;&gt;14 -->\n",
       "<g id=\"edge14\" class=\"edge\">\n",
       "<title>12&#45;&gt;14</title>\n",
       "<path fill=\"none\" stroke=\"black\" d=\"M1124.94,-103.73C1139.72,-93.92 1155.47,-83.46 1170.11,-73.75\"/>\n",
       "<polygon fill=\"black\" stroke=\"black\" points=\"1172.19,-76.57 1178.59,-68.13 1168.32,-70.74 1172.19,-76.57\"/>\n",
       "</g>\n",
       "</g>\n",
       "</svg>\n"
      ],
      "text/plain": [
       "<graphviz.sources.Source at 0x7fc789efb460>"
      ]
     },
     "execution_count": 30,
     "metadata": {},
     "output_type": "execute_result"
    }
   ],
   "source": [
    "import graphviz\n",
    "\n",
    "dot_data = tree.export_graphviz(clf\n",
    "                                ,feature_names = feature_name\n",
    "                                ,class_names = str(y_train)\n",
    "                                ,filled = True# filled color\n",
    "                                ,rounded = True #frame of tree\n",
    "                                )\n",
    "\n",
    "graph = graphviz.Source(dot_data)\n",
    "#graph.render('temp_file','png',view = False)\n",
    "graph"
   ]
  },
  {
   "cell_type": "code",
   "execution_count": 32,
   "id": "cbd74f03",
   "metadata": {},
   "outputs": [
    {
     "name": "stdout",
     "output_type": "stream",
     "text": [
      "best score 0.8891199999999999\n",
      "best depth 10\n"
     ]
    },
    {
     "data": {
      "image/png": "[encoded data removed]",
      "text/plain": [
       "<Figure size 640x480 with 1 Axes>"
      ]
     },
     "metadata": {},
     "output_type": "display_data"
    }
   ],
   "source": [
    "# find the best depth\n",
    "import matplotlib.pyplot as plt\n",
    "tr = []\n",
    "te = []\n",
    "for i in range(15):\n",
    "    clf = tree.DecisionTreeClassifier(criterion=\"gini\" #entropy\n",
    "                                  ,random_state=30\n",
    "                                  ,max_depth = i+1 \n",
    "                                 )\n",
    "    clf = clf.fit(x_train,y_train)\n",
    "    score_train = clf.score(x_train,y_train)\n",
    "    score_test = cross_val_score(clf,x_test,y_test,cv=10).mean()\n",
    "    tr.append(score_train)\n",
    "    te.append(score_test)\n",
    "print('best score',max(te))\n",
    "print('best depth',te.index(max(te))+1)\n",
    "plt.plot(range(1,16),tr,color='red',label='train')\n",
    "plt.plot(range(1,16),te,color='blue',label='test')\n",
    "plt.xticks(range(1,16))\n",
    "plt.legend()\n",
    "plt.xlabel('depth')\n",
    "plt.ylabel('score')\n",
    "plt.show()\n",
    "\n",
    "    \n",
    "    "
   ]
  },
  {
   "attachments": {},
   "cell_type": "markdown",
   "id": "fb9cfec0",
   "metadata": {},
   "source": [
    "#### Grid search \n",
    "when there  are a lot parameters, drawing learning cruve is boring\n",
    "Using this method can adjust more than one parameter but it is time consuming\n",
    "\n",
    "---\n",
    "first adjust min_samples_leaf and criterion"
   ]
  },
  {
   "cell_type": "code",
   "execution_count": 58,
   "id": "98852cf3",
   "metadata": {
    "scrolled": true
   },
   "outputs": [
    {
     "name": "stdout",
     "output_type": "stream",
     "text": [
      "{'criterion': 'entropy', 'min_samples_leaf': 41}\n",
      "0.8906599999999999\n"
     ]
    }
   ],
   "source": [
    "#parameters a seires of parameters which correspond a range of numbers\n",
    "parameters = {\"criterion\":(\"gini\",\"entropy\")\n",
    "              ,\"min_samples_leaf\":[*range(1,50,5)] #search in 1-50, step is 5  setting the least leaf node \n",
    "            }\n",
    "clf = tree.DecisionTreeClassifier(random_state=25\n",
    "                                  ,max_depth=10\n",
    "                                 )\n",
    "\n",
    "GS = GridSearchCV(clf, parameters, cv=10)\n",
    "GS = GS.fit(x_train, y_train)\n",
    "\n",
    "print(GS.best_params_) #return the best combination\n",
    "print(GS.best_score_) #best score\n"
   ]
  },
  {
   "attachments": {},
   "cell_type": "markdown",
   "id": "b56a4608",
   "metadata": {},
   "source": [
    "then adjust min_samples_split and min_impurity_decrease"
   ]
  },
  {
   "cell_type": "code",
   "execution_count": 60,
   "id": "1156215f",
   "metadata": {},
   "outputs": [
    {
     "name": "stdout",
     "output_type": "stream",
     "text": [
      "{'min_impurity_decrease': 0.0, 'min_samples_split': 6}\n",
      "0.8906599999999999\n"
     ]
    }
   ],
   "source": [
    "#parameters a seires of parameters which correspond a range of numbers\n",
    "parameters = {\"min_samples_split\":[*range(1,50,5)]\n",
    "              ,\"min_impurity_decrease\":[*np.linspace(0,0.5,50)]#minimun IG\n",
    "             }\n",
    "clf = tree.DecisionTreeClassifier(random_state=25\n",
    "                                  ,max_depth=10\n",
    "                                  ,criterion=\"entropy\"\n",
    "                                 ,min_samples_leaf=41\n",
    "                                 )\n",
    "\n",
    "GS = GridSearchCV(clf, parameters, cv=10) #parameters: the list of parameters and the range of parameters\n",
    "GS = GS.fit(x_train, y_train)\n",
    "\n",
    "print(GS.best_params_) #best combination\n",
    "print(GS.best_score_) #best scoreCv\n"
   ]
  },
  {
   "cell_type": "code",
   "execution_count": null,
   "id": "72bf651d",
   "metadata": {},
   "outputs": [],
   "source": [
    "# this model is the best one."
   ]
  },
  {
   "cell_type": "code",
   "execution_count": 76,
   "id": "3056b928",
   "metadata": {},
   "outputs": [
    {
     "data": {
      "text/plain": [
       "0.89089"
      ]
     },
     "execution_count": 76,
     "metadata": {},
     "output_type": "execute_result"
    }
   ],
   "source": [
    "clf = tree.DecisionTreeClassifier(criterion=\"entropy\"\n",
    "                                  ,random_state=25\n",
    "                                 , splitter=\"best\"\n",
    "                                  ,max_depth = 10 # 10 layers\n",
    "                                  ,min_samples_leaf = 41 \n",
    "                                 ,min_samples_split = 6 \n",
    "                               \n",
    "                                 )\n",
    "#training data\n",
    "clf = clf.fit(x_train,y_train)\n",
    "\n",
    "score = clf.score(x_test,y_test)\n",
    "score"
   ]
  },
  {
   "cell_type": "code",
   "execution_count": 77,
   "id": "bbd123c8",
   "metadata": {},
   "outputs": [
    {
     "data": {
      "text/plain": [
       "0.8809533333333334"
      ]
     },
     "execution_count": 77,
     "metadata": {},
     "output_type": "execute_result"
    }
   ],
   "source": [
    "clf = tree.DecisionTreeClassifier(criterion=\"entropy\"\n",
    "                                  ,random_state=25\n",
    "                                 , splitter=\"random\"\n",
    "                                  ,max_depth = 10 # 10 layers\n",
    "                                  ,min_samples_leaf = 41 \n",
    "                                 ,min_samples_split = 6 \n",
    "                               \n",
    "                                 )\n",
    "#training data\n",
    "clf = clf.fit(x_train,y_train)\n",
    "clf = clf.fit(x_train,y_train)\n",
    "\n",
    "score = clf.score(x_test,y_test)\n",
    "score"
   ]
  }
 ],
 "metadata": {
  "kernelspec": {
   "display_name": "Python 3 (ipykernel)",
   "language": "python",
   "name": "python3"
  },
  "language_info": {
   "codemirror_mode": {
    "name": "ipython",
    "version": 3
   },
   "file_extension": ".py",
   "mimetype": "text/x-python",
   "name": "python",
   "nbconvert_exporter": "python",
   "pygments_lexer": "ipython3",
   "version": "3.9.13"
  }
 },
 "nbformat": 4,
 "nbformat_minor": 5
}
